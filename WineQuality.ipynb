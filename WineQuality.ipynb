{
 "cells": [
  {
   "cell_type": "code",
   "execution_count": null,
   "metadata": {},
   "outputs": [],
   "source": [
    "# importamos wget y las librerías que nos faltan\n",
    "from wget import download\n",
    "from os import path\n",
    "import pandas as pd\n",
    "#https://github.com/agustinbx/DataSet-Trabajo/winequality_BR.csv\n",
    "\n",
    "\n",
    "\n",
    "# descargamos la base de datos\n",
    "if not path.exists(\"winequality_BR.csv\"):\n",
    "  download(\"https://github.com/agustinbx/DataSet-Trabajo/raw/main/winequality_BR.csv\")\n",
    "else:\n",
    "  print(\"No vamos a bajar el archivo de itunes porque ya existe!\")"
   ]
  },
  {
   "cell_type": "code",
   "execution_count": null,
   "id": "76f85ff3",
   "metadata": {},
   "outputs": [],
   "source": [
    "raw_ds = pd.read_csv(\"winequality_BR.csv\", delimiter=';')\n",
    "raw_ds"
   ]
  },
  {
   "cell_type": "code",
   "execution_count": null,
   "id": "85b814b7",
   "metadata": {},
   "outputs": [],
   "source": [
    "raw_ds.columns.to_list()"
   ]
  },
  {
   "cell_type": "code",
   "execution_count": 27,
   "id": "592888f4",
   "metadata": {},
   "outputs": [
    {
     "name": "stdout",
     "output_type": "stream",
     "text": [
      "<class 'pandas.core.frame.DataFrame'>\n",
      "RangeIndex: 3232 entries, 0 to 3231\n",
      "Data columns (total 16 columns):\n",
      " #   Column                Non-Null Count  Dtype  \n",
      "---  ------                --------------  -----  \n",
      " 0   type                  3232 non-null   object \n",
      " 1   fixed acidity         3232 non-null   float64\n",
      " 2   volatile acidity      3232 non-null   float64\n",
      " 3   citric acid           3232 non-null   float64\n",
      " 4   residual sugar        3232 non-null   float64\n",
      " 5   chlorides             3232 non-null   float64\n",
      " 6   free sulfur dioxide   3232 non-null   float64\n",
      " 7   total sulfur dioxide  3232 non-null   float64\n",
      " 8   density               3232 non-null   float64\n",
      " 9   pH                    3232 non-null   float64\n",
      " 10  sulphates             3232 non-null   float64\n",
      " 11  alcohol               3232 non-null   object \n",
      " 12  quality               3232 non-null   int64  \n",
      " 13  Unnamed: 13           0 non-null      float64\n",
      " 14  Unnamed: 14           0 non-null      float64\n",
      " 15  Unnamed: 15           1 non-null      object \n",
      "dtypes: float64(12), int64(1), object(3)\n",
      "memory usage: 404.1+ KB\n"
     ]
    }
   ],
   "source": [
    "raw_ds.info()"
   ]
  },
  {
   "cell_type": "markdown",
   "id": "8f6d2a9f",
   "metadata": {},
   "source": [
    "type: tipo de uva con la que se elabora el vino.\n",
    "\n",
    "fixed acidity: cantidad de ácidos no volátiles presentes en el vino, medida en gramos por litro.\n",
    "\n",
    "volatile acidity: cantidad de ácidos volátiles presentes en el vino, medida en gramos por litro. \n",
    "\n",
    "citric acid: contenido de ácido cítrico en el vino, medido en gramos por litro.\n",
    "\n",
    "residual sugar: cantidad de azúcar que queda en el vino después de la fermentación, medida en gramos por litro. \n",
    "\n",
    "chlorides: concentración de cloruros (sales) en el vino, medida en gramos por litro.\n",
    "\n",
    "free sulfur dioxide: cantidad de dióxido de azufre que no está ligado químicamente en el vino, medida en miligramos por litro. \n",
    "\n",
    "total sulfur dioxide: suma del dióxido de azufre libre y el combinado en el vino, medida en miligramos por litro.\n",
    "\n",
    "density: medida de la masa por unidad de volumen del vino, utilizada para estimar la concentración de sólidos disueltos, medida en gramos por centímetro cúbico.\n",
    "\n",
    "pH: medida de la acidez o alcalinidad del vino. \n",
    "\n",
    "sulphates: concentración de sales de sulfato en el vino, medida en gramos por litro.\n",
    "\n",
    "alcohol: contenido alcohólico del vino, medido en porcentaje de volumen (% vol).\n",
    "\n",
    "quality: puntuación del vino, con una escala que va de 0 a 10.\n"
   ]
  },
  {
   "cell_type": "code",
   "execution_count": null,
   "id": "aef7cb9e",
   "metadata": {},
   "outputs": [],
   "source": [
    "import pandas_profiling as pp\n",
    "\n",
    "#generamos el reporte\n",
    "report = pp.ProfileReport(raw_ds)\n",
    "\n",
    "# lo mostramos interactivo en nuestra notebook\n",
    "#report.to_notebook_iframe()\n",
    "\n",
    "#descarga el archivo html (lo abrimos desde google)\n",
    "report.to_file(output_file=\"Profile_report_winequality.html\")\n",
    "\n"
   ]
  },
  {
   "cell_type": "markdown",
   "id": "b69e74ff",
   "metadata": {},
   "source": [
    "La correlación es un concepto estadístico que indica la dirección y la fuerza de la relación entre dos variables. Cuando dos variables están correlacionadas, significa que los cambios en una de ellas están asociados con cambios en la otra. Esta asociación puede ser positiva (cuando una variable aumenta, la otra también lo hace) o negativa (cuando una variable aumenta, la otra disminuye)."
   ]
  },
  {
   "cell_type": "markdown",
   "id": "532f6746",
   "metadata": {},
   "source": [
    "El coeficiente de correlación de Pearson es la medida más utilizada para cuantificar esta relación. Se representa con la letra  r  y toma valores entre -1 y 1. Un valor de  r  cercano a 1 indica una fuerte correlación positiva, mientras que un valor cercano a -1 indica una fuerte correlación negativa. Un valor cercano a 0 sugiere que no hay una correlación lineal evidente entre las variables.\n",
    "\n",
    "Correlación no implica causalidad. Dos variables pueden estar correlacionadas sin que una cause necesariamente la otra."
   ]
  },
  {
   "cell_type": "code",
   "execution_count": null,
   "id": "c4bf2877",
   "metadata": {},
   "outputs": [],
   "source": [
    "import matplotlib.pyplot as plt\n",
    "import numpy as np\n",
    "\n",
    "# Generamos la matriz de correlacion, teniendo en cuenta unicamente valores numericos\n",
    "numeric_data = raw_ds.select_dtypes(include=[np.number])\n",
    "#numeric_data = numeric_data.dropna()\n",
    "correlation_matrix = numeric_data.corr()\n",
    "\n",
    "correlation_matrix"
   ]
  },
  {
   "cell_type": "code",
   "execution_count": null,
   "id": "b20c9d86",
   "metadata": {},
   "outputs": [],
   "source": [
    "import seaborn as sns\n",
    "import matplotlib.pyplot as plt\n",
    "import numpy as np\n",
    "\n",
    "%matplotlib inline\n",
    "#imprimimos la matriz como un heatmap\n",
    "plt.figure(figsize=(16,12))\n",
    "sns.heatmap(correlation_matrix, vmin=-1.0, vmax=1.0, center=0.0, annot=True, cmap='coolwarm')\n",
    "plt.title('Heatmap de la Matriz de Correlación', fontsize=18)\n",
    "plt.show()"
   ]
  },
  {
   "cell_type": "markdown",
   "id": "6536f4e5",
   "metadata": {},
   "source": [
    "Una regla de esas que no tienen demostración pero que funciona bastante bien (el término en inglés para definirlas es \"rules of thumb\") dice que si la correlación da por encima de 0.7 (o por debajo de -0.7), la relación entre esas dos variables merece un poco de análisis extra."
   ]
  },
  {
   "cell_type": "code",
   "execution_count": null,
   "id": "fafe7058",
   "metadata": {},
   "outputs": [],
   "source": [
    "# tomamos el valor absoluto de las correlaciones, umbralamos las mayores a 0.7\n",
    "correlation_matrix_umbralizada = correlation_matrix.abs() > 0.7 \n",
    "\n",
    "# aprovechamos y sacamos la diagonal\n",
    "np.fill_diagonal(correlation_matrix_umbralizada.values, 0)\n",
    "\n",
    "# e imprimimos la matriz como un heatmap\n",
    "plt.figure(figsize=(16,12))\n",
    "sns.heatmap(correlation_matrix_umbralizada, vmin=0.0, vmax=1.0, center=0.0, annot=True, cmap= 'coolwarm')\n",
    "plt.show()"
   ]
  },
  {
   "cell_type": "code",
   "execution_count": null,
   "id": "3c9887ba",
   "metadata": {},
   "outputs": [],
   "source": [
    "# iteramos por cada una de las columnas\n",
    "for i, col in enumerate(correlation_matrix_umbralizada.columns):\n",
    "  # y por cada una de las filas (para eso usamos el índice)\n",
    "  for j in range(i,len(correlation_matrix_umbralizada.index)):\n",
    "    # extraemos el nombre de la fila en la que estamos\n",
    "    row = correlation_matrix_umbralizada.index[j]\n",
    "    # si en esa posición tenemos un True en la matriz umbralizada\n",
    "    if correlation_matrix_umbralizada.loc[row, col]:\n",
    "      # nos traemos el valor de esa correlación\n",
    "      correlation = correlation_matrix.loc[row, col]\n",
    "      # representamos en un scatter plot cuadrado los valores de ambas variables\n",
    "      plt.figure(figsize=(6, 6))\n",
    "      plt.scatter(raw_ds[row], raw_ds[col])\n",
    "      # y lo mostramos bonito\n",
    "      plt.title(f\"Scatter plot entre {col} y {row} - r = {correlation:.4f}\")\n",
    "      plt.xlabel(row)\n",
    "      plt.ylabel(col)\n",
    "      plt.grid(True)\n",
    "      plt.show()    "
   ]
  }
 ],
 "metadata": {
  "kernelspec": {
   "display_name": "Python 3",
   "language": "python",
   "name": "python3"
  },
  "language_info": {
   "codemirror_mode": {
    "name": "ipython",
    "version": 3
   },
   "file_extension": ".py",
   "mimetype": "text/x-python",
   "name": "python",
   "nbconvert_exporter": "python",
   "pygments_lexer": "ipython3",
   "version": "3.12.5"
  }
 },
 "nbformat": 4,
 "nbformat_minor": 5
}
